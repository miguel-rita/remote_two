{
 "cells": [
  {
   "cell_type": "code",
   "execution_count": 79,
   "metadata": {},
   "outputs": [],
   "source": [
    "import numpy as np\n",
    "import pandas as pd\n",
    "import h5py\n",
    "\n",
    "train_df = pd.read_csv('data/training_set.csv')"
   ]
  },
  {
   "cell_type": "code",
   "execution_count": 3,
   "metadata": {},
   "outputs": [
    {
     "data": {
      "text/html": [
       "<div>\n",
       "<style scoped>\n",
       "    .dataframe tbody tr th:only-of-type {\n",
       "        vertical-align: middle;\n",
       "    }\n",
       "\n",
       "    .dataframe tbody tr th {\n",
       "        vertical-align: top;\n",
       "    }\n",
       "\n",
       "    .dataframe thead th {\n",
       "        text-align: right;\n",
       "    }\n",
       "</style>\n",
       "<table border=\"1\" class=\"dataframe\">\n",
       "  <thead>\n",
       "    <tr style=\"text-align: right;\">\n",
       "      <th></th>\n",
       "      <th>object_id</th>\n",
       "      <th>mjd</th>\n",
       "      <th>passband</th>\n",
       "      <th>flux</th>\n",
       "      <th>flux_err</th>\n",
       "      <th>detected</th>\n",
       "    </tr>\n",
       "  </thead>\n",
       "  <tbody>\n",
       "    <tr>\n",
       "      <th>0</th>\n",
       "      <td>615</td>\n",
       "      <td>59750.4229</td>\n",
       "      <td>2</td>\n",
       "      <td>-544.810303</td>\n",
       "      <td>3.622952</td>\n",
       "      <td>1</td>\n",
       "    </tr>\n",
       "    <tr>\n",
       "      <th>1</th>\n",
       "      <td>615</td>\n",
       "      <td>59750.4306</td>\n",
       "      <td>1</td>\n",
       "      <td>-816.434326</td>\n",
       "      <td>5.553370</td>\n",
       "      <td>1</td>\n",
       "    </tr>\n",
       "    <tr>\n",
       "      <th>2</th>\n",
       "      <td>615</td>\n",
       "      <td>59750.4383</td>\n",
       "      <td>3</td>\n",
       "      <td>-471.385529</td>\n",
       "      <td>3.801213</td>\n",
       "      <td>1</td>\n",
       "    </tr>\n",
       "    <tr>\n",
       "      <th>3</th>\n",
       "      <td>615</td>\n",
       "      <td>59750.4450</td>\n",
       "      <td>4</td>\n",
       "      <td>-388.984985</td>\n",
       "      <td>11.395031</td>\n",
       "      <td>1</td>\n",
       "    </tr>\n",
       "    <tr>\n",
       "      <th>4</th>\n",
       "      <td>615</td>\n",
       "      <td>59752.4070</td>\n",
       "      <td>2</td>\n",
       "      <td>-681.858887</td>\n",
       "      <td>4.041204</td>\n",
       "      <td>1</td>\n",
       "    </tr>\n",
       "  </tbody>\n",
       "</table>\n",
       "</div>"
      ],
      "text/plain": [
       "   object_id         mjd  passband        flux   flux_err  detected\n",
       "0        615  59750.4229         2 -544.810303   3.622952         1\n",
       "1        615  59750.4306         1 -816.434326   5.553370         1\n",
       "2        615  59750.4383         3 -471.385529   3.801213         1\n",
       "3        615  59750.4450         4 -388.984985  11.395031         1\n",
       "4        615  59752.4070         2 -681.858887   4.041204         1"
      ]
     },
     "execution_count": 3,
     "metadata": {},
     "output_type": "execute_result"
    }
   ],
   "source": [
    "train_df.head()"
   ]
  },
  {
   "cell_type": "code",
   "execution_count": 4,
   "metadata": {},
   "outputs": [
    {
     "data": {
      "text/plain": [
       "object_id  passband\n",
       "615        0           63\n",
       "           1           58\n",
       "           2           58\n",
       "           3           58\n",
       "           4           58\n",
       "Name: flux, dtype: int64"
      ]
     },
     "execution_count": 4,
     "metadata": {},
     "output_type": "execute_result"
    }
   ],
   "source": [
    "train_df.groupby(['object_id', 'passband'])['flux'].count().head()"
   ]
  },
  {
   "cell_type": "code",
   "execution_count": 13,
   "metadata": {},
   "outputs": [],
   "source": [
    "toids = np.load('data/test_obj_ids.npy')"
   ]
  },
  {
   "cell_type": "code",
   "execution_count": 14,
   "metadata": {},
   "outputs": [],
   "source": [
    "a=np.unique(toids)"
   ]
  },
  {
   "cell_type": "code",
   "execution_count": 23,
   "metadata": {},
   "outputs": [
    {
     "name": "stderr",
     "output_type": "stream",
     "text": [
      "\n",
      "\n",
      "  0%|          | 0/453653104 [00:00<?, ?it/s]\u001b[A\u001b[A\n",
      "\n",
      "  0%|          | 209183/453653104 [00:00<03:38, 2077832.15it/s]\u001b[A\u001b[A\n",
      "\n",
      "  0%|          | 434446/453653104 [00:00<03:29, 2164743.24it/s]\u001b[A\u001b[A\n",
      "\n",
      "  0%|          | 668441/453653104 [00:00<03:23, 2221829.75it/s]\u001b[A\u001b[A\n",
      "\n",
      "  0%|          | 906572/453653104 [00:00<03:20, 2261291.51it/s]\u001b[A\u001b[A\n",
      "\n",
      "  0%|          | 1151040/453653104 [00:00<03:16, 2297889.97it/s]\u001b[A\u001b[A\n",
      "\n",
      "  0%|          | 1416292/453653104 [00:00<03:11, 2357643.72it/s]\u001b[A\u001b[A\n",
      "\n",
      "  0%|          | 1687075/453653104 [00:00<03:07, 2407565.76it/s]\u001b[A\u001b[A\n",
      "\n",
      "  0%|          | 1958976/453653104 [00:00<03:04, 2446244.33it/s]\u001b[A\u001b[A\n",
      "\n",
      "  0%|          | 2236908/453653104 [00:00<03:01, 2484025.78it/s]\u001b[A\u001b[A\n",
      "\n",
      "  1%|          | 2513543/453653104 [00:01<02:59, 2511602.25it/s]\u001b[A\u001b[A\n",
      "\n",
      "  1%|          | 2794055/453653104 [00:01<02:57, 2537909.87it/s]\u001b[A\u001b[A\n",
      "\n",
      "  1%|          | 3077821/453653104 [00:01<02:55, 2563198.69it/s]\u001b[A\u001b[A\n",
      "\n",
      "  1%|          | 3365491/453653104 [00:01<02:54, 2587174.83it/s]\u001b[A\u001b[A\n",
      "\n",
      "  1%|          | 3653927/453653104 [00:01<02:52, 2608341.02it/s]\u001b[A\u001b[A\n",
      "\n",
      "  1%|          | 3944726/453653104 [00:01<02:51, 2628088.79it/s]\u001b[A\u001b[A\n",
      "\n",
      "  1%|          | 4232375/453653104 [00:01<02:49, 2643822.19it/s]\u001b[A\u001b[A\n",
      "\n",
      "  1%|          | 4523733/453653104 [00:01<02:48, 2659724.97it/s]\u001b[A\u001b[A\n",
      "\n",
      "  1%|          | 4817189/453653104 [00:01<02:47, 2674942.44it/s]\u001b[A\u001b[A\n",
      "\n",
      "  1%|          | 5114401/453653104 [00:01<02:46, 2690757.34it/s]\u001b[A\u001b[A\n",
      "\n",
      "  1%|          | 5406396/453653104 [00:02<02:45, 2702040.66it/s]\u001b[A\u001b[A\n",
      "\n",
      "  1%|▏         | 5702276/453653104 [00:02<02:45, 2714177.42it/s]\u001b[A\u001b[A\n",
      "\n",
      "  1%|▏         | 5995076/453653104 [00:02<02:44, 2717622.15it/s]\u001b[A\u001b[A\n",
      "\n",
      "  1%|▏         | 6290647/453653104 [00:02<02:43, 2727999.15it/s]\u001b[A\u001b[A\n",
      "\n",
      "  1%|▏         | 6581520/453653104 [00:02<02:43, 2735411.86it/s]\u001b[A\u001b[A\n",
      "\n",
      "  2%|▏         | 6878430/453653104 [00:02<02:42, 2744678.98it/s]\u001b[A\u001b[A\n",
      "\n",
      "  2%|▏         | 7170872/453653104 [00:02<02:42, 2751140.10it/s]\u001b[A\u001b[A\n",
      "\n",
      "  2%|▏         | 7463739/453653104 [00:02<02:41, 2757867.44it/s]\u001b[A\u001b[A\n",
      "\n",
      "  2%|▏         | 7758508/453653104 [00:02<02:41, 2764615.38it/s]\u001b[A\u001b[A\n",
      "\n",
      "  2%|▏         | 8051653/453653104 [00:02<02:40, 2770126.28it/s]\u001b[A\u001b[A\n",
      "\n",
      "  2%|▏         | 8344619/453653104 [00:03<02:40, 2767533.43it/s]\u001b[A\u001b[A\n",
      "\n",
      "  2%|▏         | 8635210/453653104 [00:03<02:40, 2771855.66it/s]\u001b[A\u001b[A\n",
      "\n",
      "  2%|▏         | 8929608/453653104 [00:03<02:40, 2777304.76it/s]\u001b[A\u001b[A\n",
      "\n",
      "  2%|▏         | 9220242/453653104 [00:03<02:39, 2781247.67it/s]\u001b[A\u001b[A\n",
      " 36%|███▋      | 164490128/453653104 [01:19<02:19, 2065530.77it/s]\u001b[A\n",
      "\n",
      "  2%|▏         | 9510067/453653104 [00:03<02:39, 2782175.94it/s]\u001b[A\u001b[A\n",
      "\n",
      "  2%|▏         | 9798332/453653104 [00:03<02:39, 2783848.04it/s]\u001b[A\u001b[A\n",
      "\n",
      "  2%|▏         | 10095613/453653104 [00:03<02:39, 2789125.25it/s]\u001b[A\u001b[A\n",
      "\n",
      "  2%|▏         | 10395742/453653104 [00:03<02:38, 2794848.94it/s]\u001b[A\u001b[A\n",
      "\n",
      "  2%|▏         | 10693449/453653104 [00:03<02:38, 2799583.34it/s]\u001b[A\u001b[A\n",
      "\n",
      "  2%|▏         | 10996116/453653104 [00:03<02:37, 2805395.03it/s]\u001b[A\u001b[A\n",
      "\n",
      "  2%|▏         | 11296369/453653104 [00:04<02:37, 2810319.07it/s]\u001b[A\u001b[A\n",
      "\n",
      "  3%|▎         | 11603668/453653104 [00:04<02:36, 2816688.73it/s]\u001b[A\u001b[A\n",
      "\n",
      "  3%|▎         | 11906105/453653104 [00:04<02:36, 2821614.91it/s]\u001b[A\u001b[A\n",
      "\n",
      "  3%|▎         | 12208129/453653104 [00:04<02:36, 2826004.18it/s]\u001b[A\u001b[A\n",
      "\n",
      "  3%|▎         | 12509556/453653104 [00:04<02:35, 2828207.54it/s]\u001b[A\u001b[A\n",
      "\n",
      "  3%|▎         | 12808667/453653104 [00:04<02:35, 2832094.86it/s]\u001b[A\u001b[A\n",
      "\n",
      "  3%|▎         | 13107555/453653104 [00:04<02:35, 2827223.59it/s]\u001b[A\u001b[A\n",
      "\n",
      "  3%|▎         | 13408524/453653104 [00:04<02:35, 2831138.10it/s]\u001b[A\u001b[A\n",
      "\n",
      "  3%|▎         | 13713241/453653104 [00:04<02:35, 2835575.04it/s]\u001b[A\u001b[A\n",
      "\n",
      "  3%|▎         | 14013556/453653104 [00:04<02:34, 2839011.09it/s]\u001b[A\u001b[A\n",
      "\n",
      "  3%|▎         | 14317709/453653104 [00:05<02:34, 2843061.45it/s]\u001b[A\u001b[A\n",
      "\n",
      "  3%|▎         | 14619259/453653104 [00:05<02:34, 2846280.73it/s]\u001b[A\u001b[A\n",
      "\n",
      "  3%|▎         | 14919070/453653104 [00:05<02:34, 2848773.58it/s]\u001b[A\u001b[A\n",
      "\n",
      "  3%|▎         | 15218496/453653104 [00:05<02:33, 2850395.63it/s]\u001b[A\u001b[A\n",
      "\n",
      "  3%|▎         | 15515876/453653104 [00:05<02:33, 2851548.94it/s]\u001b[A\u001b[A\n",
      "\n",
      "  3%|▎         | 15815080/453653104 [00:05<02:33, 2854139.27it/s]\u001b[A\u001b[A\n",
      "\n",
      "  4%|▎         | 16119199/453653104 [00:05<02:33, 2857370.87it/s]\u001b[A\u001b[A\n",
      "\n",
      "  4%|▎         | 16418626/453653104 [00:05<02:32, 2859804.32it/s]\u001b[A\u001b[A\n",
      "\n",
      "  4%|▎         | 16723727/453653104 [00:05<02:32, 2863045.65it/s]\u001b[A\u001b[A\n",
      "\n",
      "  4%|▍         | 17024567/453653104 [00:05<02:32, 2864412.30it/s]\u001b[A\u001b[A\n",
      "\n",
      "  4%|▍         | 17323366/453653104 [00:06<02:32, 2856767.11it/s]\u001b[A\u001b[A\n",
      "\n",
      "  4%|▍         | 17613287/453653104 [00:06<02:32, 2857475.84it/s]\u001b[A\u001b[A\n",
      "\n",
      "  4%|▍         | 17903338/453653104 [00:06<02:32, 2858120.58it/s]\u001b[A\u001b[A\n",
      "\n",
      "  4%|▍         | 18197250/453653104 [00:06<02:32, 2859337.90it/s]\u001b[A\u001b[A\n",
      "\n",
      "  4%|▍         | 18486232/453653104 [00:06<02:32, 2859759.29it/s]\u001b[A\u001b[A\n",
      "\n",
      "  4%|▍         | 18782638/453653104 [00:06<02:31, 2861303.77it/s]\u001b[A\u001b[A\n",
      "\n",
      "  4%|▍         | 19075296/453653104 [00:06<02:31, 2862273.26it/s]\u001b[A\u001b[A\n",
      "\n",
      "  4%|▍         | 19366789/453653104 [00:06<02:31, 2859832.15it/s]\u001b[A\u001b[A\n",
      "\n",
      "  4%|▍         | 19662735/453653104 [00:06<02:31, 2861237.09it/s]\u001b[A\u001b[A\n",
      "\n",
      "  4%|▍         | 19954988/453653104 [00:06<02:31, 2862134.45it/s]\u001b[A\u001b[A\n",
      "\n",
      "  4%|▍         | 20251849/453653104 [00:07<02:31, 2863619.79it/s]\u001b[A\u001b[A\n",
      "\n",
      "  5%|▍         | 20543590/453653104 [00:07<02:31, 2864141.12it/s]\u001b[A\u001b[A\n",
      "\n",
      "  5%|▍         | 20834846/453653104 [00:07<02:31, 2863378.79it/s]\u001b[A\u001b[A\n",
      "\n",
      "  5%|▍         | 21131268/453653104 [00:07<02:30, 2864664.72it/s]\u001b[A\u001b[A\n",
      "\n",
      "  5%|▍         | 21428058/453653104 [00:07<02:30, 2866136.58it/s]\u001b[A\u001b[A\n",
      "\n",
      "  5%|▍         | 21731527/453653104 [00:07<02:30, 2868223.81it/s]\u001b[A\u001b[A\n",
      "\n",
      "  5%|▍         | 22033185/453653104 [00:07<02:30, 2870112.11it/s]\u001b[A\u001b[A\n",
      "\n",
      "  5%|▍         | 22330624/453653104 [00:07<02:30, 2859478.48it/s]\u001b[A\u001b[A\n",
      "\n",
      "  5%|▍         | 22628060/453653104 [00:07<02:30, 2860899.35it/s]\u001b[A\u001b[A\n",
      "\n",
      "  5%|▌         | 22928038/453653104 [00:08<02:30, 2862583.84it/s]\u001b[A\u001b[A\n",
      "\n",
      "  5%|▌         | 23225494/453653104 [00:08<02:30, 2864013.08it/s]\u001b[A\u001b[A\n",
      "\n",
      "  5%|▌         | 23529611/453653104 [00:08<02:30, 2866190.48it/s]\u001b[A\u001b[A"
     ]
    },
    {
     "ename": "KeyboardInterrupt",
     "evalue": "",
     "output_type": "error",
     "traceback": [
      "\u001b[0;31m---------------------------------------------------------------------------\u001b[0m",
      "\u001b[0;31mKeyboardInterrupt\u001b[0m                         Traceback (most recent call last)",
      "\u001b[0;32m<ipython-input-23-4394a7954f4e>\u001b[0m in \u001b[0;36m<module>\u001b[0;34m()\u001b[0m\n\u001b[1;32m      3\u001b[0m \u001b[0mprev\u001b[0m \u001b[0;34m=\u001b[0m \u001b[0;34m-\u001b[0m\u001b[0;36m1\u001b[0m\u001b[0;34m\u001b[0m\u001b[0m\n\u001b[1;32m      4\u001b[0m \u001b[0mcurr\u001b[0m \u001b[0;34m=\u001b[0m \u001b[0;34m-\u001b[0m\u001b[0;36m1\u001b[0m\u001b[0;34m\u001b[0m\u001b[0m\n\u001b[0;32m----> 5\u001b[0;31m \u001b[0;32mfor\u001b[0m \u001b[0moid\u001b[0m \u001b[0;32min\u001b[0m \u001b[0mtqdm\u001b[0m\u001b[0;34m.\u001b[0m\u001b[0mtqdm\u001b[0m\u001b[0;34m(\u001b[0m\u001b[0mtoids\u001b[0m\u001b[0;34m,\u001b[0m \u001b[0mtotal\u001b[0m\u001b[0;34m=\u001b[0m\u001b[0mtoids\u001b[0m\u001b[0;34m.\u001b[0m\u001b[0msize\u001b[0m\u001b[0;34m)\u001b[0m\u001b[0;34m:\u001b[0m\u001b[0;34m\u001b[0m\u001b[0m\n\u001b[0m\u001b[1;32m      6\u001b[0m     \u001b[0mcurr\u001b[0m \u001b[0;34m=\u001b[0m \u001b[0moid\u001b[0m\u001b[0;34m\u001b[0m\u001b[0m\n\u001b[1;32m      7\u001b[0m     \u001b[0;32mif\u001b[0m \u001b[0mprev\u001b[0m \u001b[0;34m>\u001b[0m \u001b[0mcurr\u001b[0m\u001b[0;34m:\u001b[0m\u001b[0;34m\u001b[0m\u001b[0m\n",
      "\u001b[0;32m~/anaconda3/envs/tf_intro/lib/python3.6/site-packages/tqdm/_tqdm.py\u001b[0m in \u001b[0;36m__iter__\u001b[0;34m(self)\u001b[0m\n\u001b[1;32m    937\u001b[0m                 \u001b[0mn\u001b[0m \u001b[0;34m+=\u001b[0m \u001b[0;36m1\u001b[0m\u001b[0;34m\u001b[0m\u001b[0m\n\u001b[1;32m    938\u001b[0m                 \u001b[0;31m# check counter first to avoid calls to time()\u001b[0m\u001b[0;34m\u001b[0m\u001b[0;34m\u001b[0m\u001b[0m\n\u001b[0;32m--> 939\u001b[0;31m                 \u001b[0;32mif\u001b[0m \u001b[0mn\u001b[0m \u001b[0;34m-\u001b[0m \u001b[0mlast_print_n\u001b[0m \u001b[0;34m>=\u001b[0m \u001b[0mself\u001b[0m\u001b[0;34m.\u001b[0m\u001b[0mminiters\u001b[0m\u001b[0;34m:\u001b[0m\u001b[0;34m\u001b[0m\u001b[0m\n\u001b[0m\u001b[1;32m    940\u001b[0m                     \u001b[0mminiters\u001b[0m \u001b[0;34m=\u001b[0m \u001b[0mself\u001b[0m\u001b[0;34m.\u001b[0m\u001b[0mminiters\u001b[0m  \u001b[0;31m# watch monitoring thread changes\u001b[0m\u001b[0;34m\u001b[0m\u001b[0m\n\u001b[1;32m    941\u001b[0m                     \u001b[0mdelta_t\u001b[0m \u001b[0;34m=\u001b[0m \u001b[0m_time\u001b[0m\u001b[0;34m(\u001b[0m\u001b[0;34m)\u001b[0m \u001b[0;34m-\u001b[0m \u001b[0mlast_print_t\u001b[0m\u001b[0;34m\u001b[0m\u001b[0m\n",
      "\u001b[0;31mKeyboardInterrupt\u001b[0m: "
     ]
    }
   ],
   "source": [
    "import tqdm\n",
    "\n",
    "prev = -1\n",
    "curr = -1\n",
    "for oid in tqdm.tqdm(toids, total=toids.size):\n",
    "    curr = oid\n",
    "    if prev > curr:\n",
    "        print(f'Alarm : prev is {prev} and curr is {curr}')\n",
    "    prev = curr"
   ]
  },
  {
   "cell_type": "code",
   "execution_count": 8,
   "metadata": {},
   "outputs": [
    {
     "name": "stdout",
     "output_type": "stream",
     "text": [
      "130788054\n",
      "1000183\n"
     ]
    },
    {
     "data": {
      "text/plain": [
       "1000183"
      ]
     },
     "execution_count": 8,
     "metadata": {},
     "output_type": "execute_result"
    }
   ],
   "source": [
    "bug = 99406585\n",
    "w=1\n",
    "for p in toids[bug-w:bug+w]:\n",
    "    print(p)\n",
    "    \n",
    "toids[bug]"
   ]
  },
  {
   "cell_type": "code",
   "execution_count": 9,
   "metadata": {},
   "outputs": [],
   "source": [
    "sorted_toids = np.sort(toids, kind='heapsort')"
   ]
  },
  {
   "cell_type": "code",
   "execution_count": 50,
   "metadata": {},
   "outputs": [],
   "source": [
    "toids1 = toids[:bug]\n",
    "toids2 = toids[bug:]"
   ]
  },
  {
   "cell_type": "code",
   "execution_count": 62,
   "metadata": {},
   "outputs": [
    {
     "data": {
      "text/plain": [
       "array([ 13,  13,  13, ..., 116, 116, 116])"
      ]
     },
     "execution_count": 62,
     "metadata": {},
     "output_type": "execute_result"
    }
   ],
   "source": [
    "toids1[40:5000]"
   ]
  },
  {
   "cell_type": "code",
   "execution_count": 63,
   "metadata": {},
   "outputs": [
    {
     "data": {
      "text/plain": [
       "array([1000183, 1000183, 1000183, ..., 1000946, 1000946, 1000946])"
      ]
     },
     "execution_count": 63,
     "metadata": {},
     "output_type": "execute_result"
    }
   ],
   "source": [
    "toids2[50:2546]"
   ]
  },
  {
   "cell_type": "code",
   "execution_count": 53,
   "metadata": {},
   "outputs": [],
   "source": [
    "u1 = np.unique(toids1)\n",
    "u2 = np.unique(toids2)"
   ]
  },
  {
   "cell_type": "code",
   "execution_count": 56,
   "metadata": {},
   "outputs": [],
   "source": [
    "common = np.intersect1d(u1,u2,assume_unique=True)"
   ]
  },
  {
   "cell_type": "code",
   "execution_count": 57,
   "metadata": {},
   "outputs": [
    {
     "data": {
      "text/plain": [
       "array([], dtype=int64)"
      ]
     },
     "execution_count": 57,
     "metadata": {},
     "output_type": "execute_result"
    }
   ],
   "source": [
    "common"
   ]
  },
  {
   "cell_type": "code",
   "execution_count": 68,
   "metadata": {},
   "outputs": [
    {
     "data": {
      "text/plain": [
       "array([130787974])"
      ]
     },
     "execution_count": 68,
     "metadata": {},
     "output_type": "execute_result"
    }
   ],
   "source": [
    "np.intersect1d(u1,u2,assume_unique=True)"
   ]
  },
  {
   "cell_type": "code",
   "execution_count": 69,
   "metadata": {},
   "outputs": [],
   "source": [
    "demo_test = pd.read_csv('data/test_set.csv.zip', nrows=10e6)"
   ]
  },
  {
   "cell_type": "code",
   "execution_count": 77,
   "metadata": {},
   "outputs": [
    {
     "data": {
      "text/plain": [
       "Index         0.00008\n",
       "object_id    80.00000\n",
       "mjd          80.00000\n",
       "passband     80.00000\n",
       "flux         80.00000\n",
       "flux_err     80.00000\n",
       "detected     80.00000\n",
       "dtype: float64"
      ]
     },
     "execution_count": 77,
     "metadata": {},
     "output_type": "execute_result"
    }
   ],
   "source": [
    "demo_test.memory_usage()/1e6"
   ]
  },
  {
   "cell_type": "code",
   "execution_count": 83,
   "metadata": {},
   "outputs": [],
   "source": [
    "demo_test = pd.read_csv('data/test_set.csv.zip', nrows=10)"
   ]
  },
  {
   "cell_type": "code",
   "execution_count": 84,
   "metadata": {},
   "outputs": [
    {
     "data": {
      "text/html": [
       "<div>\n",
       "<style scoped>\n",
       "    .dataframe tbody tr th:only-of-type {\n",
       "        vertical-align: middle;\n",
       "    }\n",
       "\n",
       "    .dataframe tbody tr th {\n",
       "        vertical-align: top;\n",
       "    }\n",
       "\n",
       "    .dataframe thead th {\n",
       "        text-align: right;\n",
       "    }\n",
       "</style>\n",
       "<table border=\"1\" class=\"dataframe\">\n",
       "  <thead>\n",
       "    <tr style=\"text-align: right;\">\n",
       "      <th></th>\n",
       "      <th>object_id</th>\n",
       "      <th>mjd</th>\n",
       "      <th>passband</th>\n",
       "      <th>flux</th>\n",
       "      <th>flux_err</th>\n",
       "      <th>detected</th>\n",
       "    </tr>\n",
       "  </thead>\n",
       "  <tbody>\n",
       "    <tr>\n",
       "      <th>0</th>\n",
       "      <td>13</td>\n",
       "      <td>59798.3205</td>\n",
       "      <td>2</td>\n",
       "      <td>-1.299735</td>\n",
       "      <td>1.357315</td>\n",
       "      <td>0</td>\n",
       "    </tr>\n",
       "    <tr>\n",
       "      <th>1</th>\n",
       "      <td>13</td>\n",
       "      <td>59798.3281</td>\n",
       "      <td>1</td>\n",
       "      <td>-2.095392</td>\n",
       "      <td>1.148654</td>\n",
       "      <td>0</td>\n",
       "    </tr>\n",
       "    <tr>\n",
       "      <th>2</th>\n",
       "      <td>13</td>\n",
       "      <td>59798.3357</td>\n",
       "      <td>3</td>\n",
       "      <td>-0.923794</td>\n",
       "      <td>1.763655</td>\n",
       "      <td>0</td>\n",
       "    </tr>\n",
       "    <tr>\n",
       "      <th>3</th>\n",
       "      <td>13</td>\n",
       "      <td>59798.3466</td>\n",
       "      <td>4</td>\n",
       "      <td>-4.009815</td>\n",
       "      <td>2.602911</td>\n",
       "      <td>0</td>\n",
       "    </tr>\n",
       "    <tr>\n",
       "      <th>4</th>\n",
       "      <td>13</td>\n",
       "      <td>59798.3576</td>\n",
       "      <td>5</td>\n",
       "      <td>-3.403503</td>\n",
       "      <td>5.367328</td>\n",
       "      <td>0</td>\n",
       "    </tr>\n",
       "  </tbody>\n",
       "</table>\n",
       "</div>"
      ],
      "text/plain": [
       "   object_id         mjd  passband      flux  flux_err  detected\n",
       "0         13  59798.3205         2 -1.299735  1.357315         0\n",
       "1         13  59798.3281         1 -2.095392  1.148654         0\n",
       "2         13  59798.3357         3 -0.923794  1.763655         0\n",
       "3         13  59798.3466         4 -4.009815  2.602911         0\n",
       "4         13  59798.3576         5 -3.403503  5.367328         0"
      ]
     },
     "execution_count": 84,
     "metadata": {},
     "output_type": "execute_result"
    }
   ],
   "source": [
    "demo_test.head()"
   ]
  },
  {
   "cell_type": "code",
   "execution_count": 85,
   "metadata": {},
   "outputs": [
    {
     "data": {
      "text/html": [
       "<div>\n",
       "<style scoped>\n",
       "    .dataframe tbody tr th:only-of-type {\n",
       "        vertical-align: middle;\n",
       "    }\n",
       "\n",
       "    .dataframe tbody tr th {\n",
       "        vertical-align: top;\n",
       "    }\n",
       "\n",
       "    .dataframe thead th {\n",
       "        text-align: right;\n",
       "    }\n",
       "</style>\n",
       "<table border=\"1\" class=\"dataframe\">\n",
       "  <thead>\n",
       "    <tr style=\"text-align: right;\">\n",
       "      <th></th>\n",
       "      <th>13</th>\n",
       "      <th>59798.3281</th>\n",
       "      <th>1</th>\n",
       "      <th>-2.095392</th>\n",
       "      <th>1.148654</th>\n",
       "      <th>0</th>\n",
       "    </tr>\n",
       "  </thead>\n",
       "  <tbody>\n",
       "    <tr>\n",
       "      <th>0</th>\n",
       "      <td>13</td>\n",
       "      <td>59798.3357</td>\n",
       "      <td>3</td>\n",
       "      <td>-0.923794</td>\n",
       "      <td>1.763655</td>\n",
       "      <td>0</td>\n",
       "    </tr>\n",
       "    <tr>\n",
       "      <th>1</th>\n",
       "      <td>13</td>\n",
       "      <td>59798.3466</td>\n",
       "      <td>4</td>\n",
       "      <td>-4.009815</td>\n",
       "      <td>2.602911</td>\n",
       "      <td>0</td>\n",
       "    </tr>\n",
       "  </tbody>\n",
       "</table>\n",
       "</div>"
      ],
      "text/plain": [
       "   13  59798.3281  1  -2.095392  1.148654  0\n",
       "0  13  59798.3357  3  -0.923794  1.763655  0\n",
       "1  13  59798.3466  4  -4.009815  2.602911  0"
      ]
     },
     "execution_count": 85,
     "metadata": {},
     "output_type": "execute_result"
    }
   ],
   "source": [
    "dd = pd.read_csv('data/test_set.csv.zip', nrows=2, skiprows=2)\n",
    "dd.head()"
   ]
  },
  {
   "cell_type": "code",
   "execution_count": 248,
   "metadata": {},
   "outputs": [],
   "source": [
    "# Get accurate splits for toids ie. no user leakage between splits\n",
    "\n",
    "def get_splits(oids, nsplits):\n",
    "    '''\n",
    "    Given a numpy array containing sequential object ids, not necessarily sorted, will return via 'final_splits'\n",
    "    the indexes where splitting occurs, each index indicating the first element of the chunk, as well as number of\n",
    "    elements in chunk via 'nrows_per_split'\n",
    "    '''\n",
    "    rough_splits = np.round(np.linspace(0, oids.size, nsplits)[:-1],0).astype(int)\n",
    "\n",
    "    # Refine splits\n",
    "    final_splits = []\n",
    "    for s in rough_splits:\n",
    "        p_id = oids[s]\n",
    "        n_id = oids[s]\n",
    "        ind = s\n",
    "        while n_id == p_id:\n",
    "            p_id = n_id\n",
    "            ind -= 1\n",
    "            n_id = oids[ind]\n",
    "        final_splits.append(ind+1)\n",
    "    final_splits.append(oids.size) # Not size-1 to account for global  header\n",
    "    \n",
    "    final_splits = [s+1 for s in final_splits] # +1 to jump global header\n",
    "    \n",
    "    nrows_per_split = [final_splits[i+1]-final_splits[i] for i in np.arange(len(final_splits)-1)]\n",
    "    \n",
    "    return final_splits, nrows_per_split\n",
    "\n",
    "final_splits = get_splits(toids, 15)"
   ]
  },
  {
   "cell_type": "code",
   "execution_count": 257,
   "metadata": {},
   "outputs": [],
   "source": [
    "# Test splitting method on train data first\n",
    "\n",
    "# get data oids\n",
    "doids = pd.read_csv('data/training_set.csv', usecols=['object_id']).values"
   ]
  },
  {
   "cell_type": "code",
   "execution_count": 258,
   "metadata": {},
   "outputs": [],
   "source": [
    "dsplits, dchunksizes = get_splits(doids, 15)"
   ]
  },
  {
   "cell_type": "code",
   "execution_count": 250,
   "metadata": {},
   "outputs": [],
   "source": [
    "save_dir = './data/train_chunks/'\n",
    "chunk_name = 'training_set_chunk'\n",
    "source_csv = './data/training_set.csv'\n",
    "header = ['object_id', 'mjd', 'passband', 'flux', 'flux_err', 'detected']\n",
    "\n",
    "for i, (chunk_start_index, chunk_size) in enumerate(zip(dsplits, dchunksizes)):   \n",
    "    csv_chunk = pd.read_csv(source_csv, skiprows=chunk_start_index, nrows=chunk_size, header=None, names=header)\n",
    "    csv_chunk.to_hdf(save_dir+chunk_name+str(i)+'.h5', key='w', mode='w')"
   ]
  },
  {
   "cell_type": "code",
   "execution_count": 251,
   "metadata": {},
   "outputs": [],
   "source": [
    "# Read train chunks\n",
    "import os\n",
    "cs = []\n",
    "cnames = os.listdir(save_dir)\n",
    "for chunk in cnames:\n",
    "    cs.append(pd.read_hdf(save_dir + chunk))"
   ]
  },
  {
   "cell_type": "code",
   "execution_count": 252,
   "metadata": {},
   "outputs": [],
   "source": [
    "recon_train = pd.concat(cs, axis=0).sort_values(['object_id', 'mjd']) #Checked OK"
   ]
  }
 ],
 "metadata": {
  "kernelspec": {
   "display_name": "Python 3",
   "language": "python",
   "name": "python3"
  },
  "language_info": {
   "codemirror_mode": {
    "name": "ipython",
    "version": 3
   },
   "file_extension": ".py",
   "mimetype": "text/x-python",
   "name": "python",
   "nbconvert_exporter": "python",
   "pygments_lexer": "ipython3",
   "version": "3.6.5"
  }
 },
 "nbformat": 4,
 "nbformat_minor": 1
}
