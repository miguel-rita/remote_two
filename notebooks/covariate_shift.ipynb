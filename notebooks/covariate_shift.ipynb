{
 "cells": [
  {
   "cell_type": "code",
   "execution_count": 101,
   "metadata": {},
   "outputs": [],
   "source": [
    "import pandas as pd\n",
    "import numpy as np\n",
    "import seaborn as sns\n",
    "import matplotlib.pyplot as plt\n",
    "from sklearn.model_selection import StratifiedKFold as SKF\n",
    "from sklearn.linear_model import LogisticRegression as LR\n",
    "from sklearn.ensemble import RandomForestClassifier as RFC\n",
    "from sklearn.metrics import precision_recall_curve as PRC\n",
    "from sklearn import preprocessing, impute\n",
    "\n",
    "train = pd.read_hdf('../data/train_feats_od.h5')\n",
    "test = pd.read_hdf('../data/test_feats_od.h5')\n",
    "metatrain = pd.read_csv('../data/training_set_metadata.csv')"
   ]
  },
  {
   "cell_type": "code",
   "execution_count": 12,
   "metadata": {},
   "outputs": [
    {
     "data": {
      "text/plain": [
       "Index(['hostgal_photoz_err', 'flux_mean_0', 'flux_mean_5', 'flux_min_1',\n",
       "       'flux_min_2', 'flux_min_5', 'flux_std_0', 'flux_std_1', 'flux_std_2',\n",
       "       'flux_std_5', 'flux_skew_1', 'flux_skew_2', 'flux_skew_3',\n",
       "       'flux_skew_4', 'flux_skew_5', 'flux_kurt_1', 'flux_kurt_2',\n",
       "       'flux_kurt_3', 'flux_kurt_4', 'flux_kurt_5',\n",
       "       'cross_band_flux_mean_contrib_0', 'cross_band_flux_mean_contrib_1',\n",
       "       'cross_band_flux_mean_contrib_2', 'cross_band_flux_mean_contrib_3',\n",
       "       'cross_band_flux_mean_contrib_4', 'cross_band_flux_mean_contrib_5',\n",
       "       'cross_band_flux_max_contrib_0', 'cross_band_flux_max_contrib_1',\n",
       "       'cross_band_flux_max_contrib_2', 'cross_band_flux_max_contrib_3',\n",
       "       'cross_band_flux_max_contrib_4', 'cross_band_flux_max_contrib_5',\n",
       "       'det_amplitude', 'det_avg_1_block_duration', 'cross_detected_contrib_1',\n",
       "       'cross_detected_contrib_2', 'cross_detected_contrib_3',\n",
       "       'cross_detected_contrib_5', 'linreg_b1_0_110_band2',\n",
       "       'linreg_b1_0_110_band3', 'linreg_b1_0_110_band4', 'abs_magnitude_max_0',\n",
       "       'abs_magnitude_max_1', 'abs_magnitude_max_2', 'abs_magnitude_max_3',\n",
       "       'abs_magnitude_max_4', 'abs_magnitude_max_5',\n",
       "       'absmagmax_diff_bands_3_4', 'absmagmax_diff_bands_3_5',\n",
       "       'absmagmax_diff_bands_4_5', 'spike_back_mean', 'spike_front_mean'],\n",
       "      dtype='object')"
      ]
     },
     "execution_count": 12,
     "metadata": {},
     "output_type": "execute_result"
    }
   ],
   "source": [
    "train.columns"
   ]
  },
  {
   "cell_type": "code",
   "execution_count": 75,
   "metadata": {},
   "outputs": [
    {
     "name": "stdout",
     "output_type": "stream",
     "text": [
      "Training fold num. 0\n",
      "Training fold num. 1\n",
      "Training fold num. 2\n",
      "Training fold num. 3\n",
      "Training fold num. 4\n",
      "Training fold num. 5\n",
      "Training fold num. 6\n",
      "Training fold num. 7\n",
      "Training fold num. 8\n",
      "Training fold num. 9\n",
      "Precision recall results :\n"
     ]
    },
    {
     "name": "stderr",
     "output_type": "stream",
     "text": [
      "/Users/miguelrita/anaconda2/envs/titanic/lib/python3.6/site-packages/scipy/stats/stats.py:1713: FutureWarning: Using a non-tuple sequence for multidimensional indexing is deprecated; use `arr[tuple(seq)]` instead of `arr[seq]`. In the future this will be interpreted as an array index, `arr[np.array(seq)]`, which will result either in an error or a different result.\n",
      "  return np.add.reduce(sorted[indexer] * weights, axis=axis) / sumval\n"
     ]
    },
    {
     "data": {
      "text/plain": [
       "(0, 1)"
      ]
     },
     "execution_count": 75,
     "metadata": {},
     "output_type": "execute_result"
    },
    {
     "data": {
      "image/png": "[encoded data removed]",
      "text/plain": [
       "<Figure size 432x288 with 1 Axes>"
      ]
     },
     "metadata": {
      "needs_background": "light"
     },
     "output_type": "display_data"
    }
   ],
   "source": [
    "# Define base sets\n",
    "X_train = train.values\n",
    "X_test_all = test.values\n",
    "\n",
    "# Draw random sample from test\n",
    "sample_size = 80000\n",
    "random_ixs = np.arange(0,X_test_all.shape[0])\n",
    "np.random.shuffle(random_ixs)\n",
    "random_ixs = random_ixs[:sample_size]\n",
    "X_test = X_test_all[random_ixs]\n",
    "\n",
    "# Assign labels to both - 1 belongs to train, 0 to test and concat\n",
    "y_train = np.ones((X_train.shape[0],1))\n",
    "y_test = np.zeros((X_test.shape[0],1))\n",
    "\n",
    "# Scale\n",
    "X_train = preprocessing.StandardScaler().fit_transform(X_train)\n",
    "X_test = preprocessing.StandardScaler().fit_transform(X_test)\n",
    "\n",
    "# Impute\n",
    "X_train = impute.SimpleImputer(missing_values=np.nan, strategy='mean').fit_transform(X_train)\n",
    "X_test = impute.SimpleImputer(missing_values=np.nan, strategy='mean').fit_transform(X_test)\n",
    "\n",
    "X = np.concatenate([X_train, X_test], axis=0)\n",
    "y = np.concatenate([y_train, y_test], axis=0)\n",
    "\n",
    "# Train simple classifier on several folds and average predictions\n",
    "y_oof = np.zeros(shape=y.shape[0])\n",
    "clf = RFC(max_depth=2, n_estimators=100)\n",
    "folds = SKF(n_splits=10, shuffle=True, random_state=1)\n",
    "\n",
    "for fold_num, (train_, eval_) in enumerate(folds.split(y, y)):\n",
    "    print(f'Training fold num. {fold_num:d}')\n",
    "    X_fold_train, X_fold_eval = X[train_], X[eval_]\n",
    "    y_fold_train, y_fold_eval = y[train_], y[eval_]\n",
    "    \n",
    "    clf.fit(X_fold_train, y_fold_train[:,0])\n",
    "    y_oof[eval_] = clf.predict_proba(X_fold_eval)[:,1]\n",
    "\n",
    "prr = PRC(y_true=y, probas_pred=y_oof, pos_label=1)\n",
    "print(f'Precision recall results :')\n",
    "ax = sns.lineplot(prr[0], prr[1])\n",
    "ax.set_xlim(0,1)\n",
    "ax.set_ylim(0,1)"
   ]
  },
  {
   "cell_type": "code",
   "execution_count": 104,
   "metadata": {},
   "outputs": [
    {
     "name": "stderr",
     "output_type": "stream",
     "text": [
      "/Users/miguelrita/anaconda2/envs/titanic/lib/python3.6/site-packages/scipy/stats/stats.py:1713: FutureWarning: Using a non-tuple sequence for multidimensional indexing is deprecated; use `arr[tuple(seq)]` instead of `arr[seq]`. In the future this will be interpreted as an array index, `arr[np.array(seq)]`, which will result either in an error or a different result.\n",
      "  return np.add.reduce(sorted[indexer] * weights, axis=axis) / sumval\n"
     ]
    },
    {
     "data": {
      "text/plain": [
       "<matplotlib.legend.Legend at 0x1a2ac1ad68>"
      ]
     },
     "execution_count": 104,
     "metadata": {},
     "output_type": "execute_result"
    },
    {
     "data": {
      "image/png": "[encoded data removed]",
      "text/plain": [
       "<Figure size 432x288 with 1 Axes>"
      ]
     },
     "metadata": {
      "needs_background": "light"
     },
     "output_type": "display_data"
    }
   ],
   "source": [
    "# Plot resulting beta dist vs. simple rs covariate beta\n",
    "\n",
    "new_beta = y_oof[:X_train.shape[0]]\n",
    "beta_rs = np.load('../data/rs_plus2_covar_beta.npy')\n",
    "bins_ = np.linspace(0,10,1000)\n",
    "sns.distplot(beta_rs, kde=True, label='rs_covar', bins=bins_)\n",
    "new_beta\n",
    "new_beta = 1/new_beta-1\n",
    "new_beta /= np.median(new_beta)\n",
    "new_beta = np.clip(new_beta, 0, 4)\n",
    "ax = sns.distplot(new_beta, kde=True, label='new_beta_covar', bins=bins_)\n",
    "simple_rs_beta = 1 + 2 * metatrain['hostgal_photoz'].values\n",
    "sns.distplot(simple_rs_beta, kde=True, label='best', bins=bins_)\n",
    "guess_rs_beta = 1 + 3 * metatrain['hostgal_photoz'].values\n",
    "sns.distplot(guess_rs_beta, kde=True, label='guess', bins=bins_)\n",
    "ax.set_ylim(0,5)\n",
    "ax.set_xlim(0,10)\n",
    "plt.legend()"
   ]
  },
  {
   "cell_type": "code",
   "execution_count": 92,
   "metadata": {},
   "outputs": [
    {
     "data": {
      "text/plain": [
       "count   7848.00\n",
       "mean       1.63\n",
       "std        1.31\n",
       "min        0.17\n",
       "25%        0.60\n",
       "50%        1.00\n",
       "75%        2.58\n",
       "max        4.00\n",
       "dtype: float64"
      ]
     },
     "execution_count": 92,
     "metadata": {},
     "output_type": "execute_result"
    }
   ],
   "source": [
    "pd.Series(new_beta).describe()"
   ]
  },
  {
   "cell_type": "code",
   "execution_count": 95,
   "metadata": {},
   "outputs": [],
   "source": [
    "# Save experimental new beta\n",
    "np.save('../data/exp_covar_beta_v1.npy', new_beta)"
   ]
  },
  {
   "cell_type": "code",
   "execution_count": 100,
   "metadata": {},
   "outputs": [
    {
     "data": {
      "text/plain": [
       "Index(['hostgal_photoz_err', 'flux_mean_0', 'flux_mean_5', 'flux_min_1',\n",
       "       'flux_min_2', 'flux_min_5', 'flux_std_0', 'flux_std_1', 'flux_std_2',\n",
       "       'flux_std_5', 'flux_skew_1', 'flux_skew_2', 'flux_skew_3',\n",
       "       'flux_skew_4', 'flux_skew_5', 'flux_kurt_1', 'flux_kurt_2',\n",
       "       'flux_kurt_3', 'flux_kurt_4', 'flux_kurt_5',\n",
       "       'cross_band_flux_mean_contrib_0', 'cross_band_flux_mean_contrib_1',\n",
       "       'cross_band_flux_mean_contrib_2', 'cross_band_flux_mean_contrib_3',\n",
       "       'cross_band_flux_mean_contrib_4', 'cross_band_flux_mean_contrib_5',\n",
       "       'cross_band_flux_max_contrib_0', 'cross_band_flux_max_contrib_1',\n",
       "       'cross_band_flux_max_contrib_2', 'cross_band_flux_max_contrib_3',\n",
       "       'cross_band_flux_max_contrib_4', 'cross_band_flux_max_contrib_5',\n",
       "       'det_amplitude', 'det_avg_1_block_duration', 'cross_detected_contrib_1',\n",
       "       'cross_detected_contrib_2', 'cross_detected_contrib_3',\n",
       "       'cross_detected_contrib_5', 'linreg_b1_0_110_band2',\n",
       "       'linreg_b1_0_110_band3', 'linreg_b1_0_110_band4', 'abs_magnitude_max_0',\n",
       "       'abs_magnitude_max_1', 'abs_magnitude_max_2', 'abs_magnitude_max_3',\n",
       "       'abs_magnitude_max_4', 'abs_magnitude_max_5',\n",
       "       'absmagmax_diff_bands_3_4', 'absmagmax_diff_bands_3_5',\n",
       "       'absmagmax_diff_bands_4_5', 'spike_back_mean', 'spike_front_mean'],\n",
       "      dtype='object')"
      ]
     },
     "execution_count": 100,
     "metadata": {},
     "output_type": "execute_result"
    }
   ],
   "source": [
    "train.columns"
   ]
  },
  {
   "cell_type": "code",
   "execution_count": null,
   "metadata": {},
   "outputs": [],
   "source": []
  }
 ],
 "metadata": {
  "kernelspec": {
   "display_name": "Python 3",
   "language": "python",
   "name": "python3"
  },
  "language_info": {
   "codemirror_mode": {
    "name": "ipython",
    "version": 3
   },
   "file_extension": ".py",
   "mimetype": "text/x-python",
   "name": "python",
   "nbconvert_exporter": "python",
   "pygments_lexer": "ipython3",
   "version": "3.6.7"
  }
 },
 "nbformat": 4,
 "nbformat_minor": 2
}
