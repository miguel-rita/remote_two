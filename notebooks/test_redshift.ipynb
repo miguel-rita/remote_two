{
 "cells": [
  {
   "cell_type": "code",
   "execution_count": 95,
   "metadata": {},
   "outputs": [],
   "source": [
    "import pandas as pd\n",
    "\n",
    "t = pd.read_csv('data/test_set_metadata.csv')"
   ]
  },
  {
   "cell_type": "code",
   "execution_count": 96,
   "metadata": {},
   "outputs": [
    {
     "data": {
      "text/plain": [
       "Index(['object_id', 'ra', 'decl', 'gal_l', 'gal_b', 'ddf', 'hostgal_specz',\n",
       "       'hostgal_photoz', 'hostgal_photoz_err', 'distmod', 'mwebv'],\n",
       "      dtype='object')"
      ]
     },
     "execution_count": 96,
     "metadata": {},
     "output_type": "execute_result"
    }
   ],
   "source": [
    "t.columns"
   ]
  },
  {
   "cell_type": "code",
   "execution_count": 97,
   "metadata": {},
   "outputs": [
    {
     "data": {
      "text/plain": [
       "390510"
      ]
     },
     "execution_count": 97,
     "metadata": {},
     "output_type": "execute_result"
    }
   ],
   "source": [
    "t['hostgal_photoz'].loc[t['hostgal_photoz']==0].count()"
   ]
  },
  {
   "cell_type": "code",
   "execution_count": 98,
   "metadata": {},
   "outputs": [
    {
     "data": {
      "text/plain": [
       "0.0000    390510\n",
       "0.4481       566\n",
       "0.4787       562\n",
       "0.4541       559\n",
       "0.4659       558\n",
       "0.4510       557\n",
       "0.4589       554\n",
       "0.4525       554\n",
       "0.4757       553\n",
       "0.4466       553\n",
       "0.4741       552\n",
       "0.4572       551\n",
       "0.4738       551\n",
       "0.4480       550\n",
       "0.4524       550\n",
       "0.4559       549\n",
       "0.4508       548\n",
       "0.4547       548\n",
       "0.4583       547\n",
       "0.4513       546\n",
       "0.4748       545\n",
       "0.4528       545\n",
       "0.4472       544\n",
       "0.4536       544\n",
       "0.4633       543\n",
       "0.4464       542\n",
       "0.4526       542\n",
       "0.4468       542\n",
       "0.4505       541\n",
       "0.4706       541\n",
       "           ...  \n",
       "2.0322         1\n",
       "1.9076         1\n",
       "1.9729         1\n",
       "1.8735         1\n",
       "2.0159         1\n",
       "2.0423         1\n",
       "2.9611         1\n",
       "1.8041         1\n",
       "1.7759         1\n",
       "2.0439         1\n",
       "2.0163         1\n",
       "2.0417         1\n",
       "1.8213         1\n",
       "1.9334         1\n",
       "1.9529         1\n",
       "2.0124         1\n",
       "1.8409         1\n",
       "1.8765         1\n",
       "0.0101         1\n",
       "1.8076         1\n",
       "1.9745         1\n",
       "2.0214         1\n",
       "1.9204         1\n",
       "2.1744         1\n",
       "1.9913         1\n",
       "0.0126         1\n",
       "2.1091         1\n",
       "1.9379         1\n",
       "2.0751         1\n",
       "1.9819         1\n",
       "Name: hostgal_photoz, Length: 29858, dtype: int64"
      ]
     },
     "execution_count": 98,
     "metadata": {},
     "output_type": "execute_result"
    }
   ],
   "source": [
    "t['hostgal_photoz'].value_counts()"
   ]
  },
  {
   "cell_type": "code",
   "execution_count": 99,
   "metadata": {},
   "outputs": [],
   "source": [
    "import seaborn as sns"
   ]
  },
  {
   "cell_type": "code",
   "execution_count": 100,
   "metadata": {},
   "outputs": [
    {
     "name": "stderr",
     "output_type": "stream",
     "text": [
      "/home/lanfear/anaconda3/envs/tf_intro/lib/python3.6/site-packages/scipy/stats/stats.py:1713: FutureWarning: Using a non-tuple sequence for multidimensional indexing is deprecated; use `arr[tuple(seq)]` instead of `arr[seq]`. In the future this will be interpreted as an array index, `arr[np.array(seq)]`, which will result either in an error or a different result.\n",
      "  return np.add.reduce(sorted[indexer] * weights, axis=axis) / sumval\n"
     ]
    },
    {
     "data": {
      "text/plain": [
       "<matplotlib.axes._subplots.AxesSubplot at 0x7f6833e2cbe0>"
      ]
     },
     "execution_count": 100,
     "metadata": {},
     "output_type": "execute_result"
    },
    {
     "data": {
      "image/png": "[encoded data removed]",
      "text/plain": [
       "<Figure size 432x288 with 1 Axes>"
      ]
     },
     "metadata": {
      "needs_background": "light"
     },
     "output_type": "display_data"
    }
   ],
   "source": [
    "sns.distplot(t['hostgal_photoz'][t['hostgal_photoz']>-1].sort_values(ascending=True),kde=False, norm_hist=False)"
   ]
  },
  {
   "cell_type": "code",
   "execution_count": 71,
   "metadata": {},
   "outputs": [],
   "source": [
    "cp = t['hostgal_photoz'].sort_values(ascending=True).cumsum()/t['hostgal_photoz'].sum()"
   ]
  },
  {
   "cell_type": "code",
   "execution_count": 101,
   "metadata": {},
   "outputs": [
    {
     "data": {
      "text/plain": [
       "(-0.00019999999999999998, 0.245]    0.125095\n",
       "(0.245, 0.336]                      0.250007\n",
       "(0.336, 0.423]                      0.375028\n",
       "(0.423, 0.502]                      0.500090\n",
       "(0.502, 0.585]                      0.625028\n",
       "(0.585, 0.684]                      0.750057\n",
       "(0.684, 0.834]                      0.875009\n",
       "(0.834, 3.0]                        1.000000\n",
       "Name: hostgal_photoz, dtype: float64"
      ]
     },
     "execution_count": 101,
     "metadata": {},
     "output_type": "execute_result"
    }
   ],
   "source": [
    "import numpy as np\n",
    "\n",
    "extragal_t = t['hostgal_photoz'].loc[t['hostgal_photoz']>0]\n",
    "gal_t = t['hostgal_photoz'].loc[t['hostgal_photoz']==0]\n",
    "\n",
    "# Number of q bins for extragalactic will be such as to have same cardinal. as galactic bin\n",
    "q = np.ceil(extragal_t.count()/gal_t.count()).astype(int)\n",
    "\n",
    "bins = pd.qcut(extragal_t, q=q)\n",
    "res = bins.value_counts().sort_index().cumsum() / bins.value_counts().sort_index().sum()\n",
    "res"
   ]
  },
  {
   "cell_type": "code",
   "execution_count": 83,
   "metadata": {},
   "outputs": [
    {
     "data": {
      "text/plain": [
       "Interval(-0.00019999999999999998, 0.245, closed='right')"
      ]
     },
     "execution_count": 83,
     "metadata": {},
     "output_type": "execute_result"
    }
   ],
   "source": [
    "res.index[0]"
   ]
  },
  {
   "cell_type": "code",
   "execution_count": 87,
   "metadata": {},
   "outputs": [
    {
     "data": {
      "text/plain": [
       "8"
      ]
     },
     "execution_count": 87,
     "metadata": {},
     "output_type": "execute_result"
    }
   ],
   "source": [
    "q"
   ]
  },
  {
   "cell_type": "code",
   "execution_count": null,
   "metadata": {},
   "outputs": [],
   "source": []
  }
 ],
 "metadata": {
  "kernelspec": {
   "display_name": "Python 3",
   "language": "python",
   "name": "python3"
  },
  "language_info": {
   "codemirror_mode": {
    "name": "ipython",
    "version": 3
   },
   "file_extension": ".py",
   "mimetype": "text/x-python",
   "name": "python",
   "nbconvert_exporter": "python",
   "pygments_lexer": "ipython3",
   "version": "3.6.5"
  }
 },
 "nbformat": 4,
 "nbformat_minor": 2
}
