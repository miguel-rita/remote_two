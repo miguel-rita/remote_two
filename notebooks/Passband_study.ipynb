{
 "cells": [
  {
   "cell_type": "code",
   "execution_count": 7,
   "metadata": {},
   "outputs": [],
   "source": [
    "import pandas as pd\n",
    "import gc, os, tqdm"
   ]
  },
  {
   "cell_type": "code",
   "execution_count": 13,
   "metadata": {},
   "outputs": [
    {
     "name": "stderr",
     "output_type": "stream",
     "text": [
      "\n",
      "  0%|          | 0/91 [00:00<?, ?it/s]\u001b[A"
     ]
    },
    {
     "name": "stdout",
     "output_type": "stream",
     "text": [
      "['test_set_chunk28.h5', 'test_set_chunk77.h5', 'test_set_chunk74.h5', 'test_set_chunk61.h5', 'test_set_chunk84.h5', 'test_set_chunk8.h5', 'test_set_chunk72.h5', 'test_set_chunk44.h5', 'test_set_chunk34.h5', 'test_set_chunk39.h5', 'test_set_chunk31.h5', 'test_set_chunk42.h5', 'test_set_chunk53.h5', 'test_set_chunk65.h5', 'test_set_chunk22.h5', 'test_set_chunk60.h5', 'test_set_chunk68.h5', 'test_set_chunk81.h5', 'test_set_chunk19.h5', 'test_set_chunk86.h5', 'test_set_chunk49.h5', 'test_set_chunk26.h5', 'test_set_chunk29.h5', 'test_set_chunk45.h5', 'test_set_chunk18.h5', 'test_set_chunk75.h5', 'test_set_chunk9.h5', 'test_set_chunk15.h5', 'test_set_chunk52.h5', 'test_set_chunk79.h5', 'test_set_chunk47.h5', 'test_set_chunk24.h5', 'test_set_chunk80.h5', 'test_set_chunk55.h5', 'test_set_chunk11.h5', 'test_set_chunk54.h5', 'test_set_chunk57.h5', 'test_set_chunk50.h5', 'test_set_chunk35.h5', 'test_set_chunk62.h5', 'test_set_chunk4.h5', 'test_set_chunk43.h5', 'test_set_chunk82.h5', 'test_set_chunk38.h5', 'test_set_chunk88.h5', 'test_set_chunk6.h5', 'test_set_chunk30.h5', 'test_set_chunk20.h5', 'test_set_chunk83.h5', 'test_set_chunk36.h5', 'test_set_chunk69.h5', 'test_set_chunk7.h5', 'test_set_chunk41.h5', 'test_set_chunk5.h5', 'test_set_chunk73.h5', 'test_set_chunk90.h5', 'test_set_chunk63.h5', 'test_set_chunk14.h5', 'test_set_chunk2.h5', 'test_set_chunk66.h5', 'test_set_chunk0.h5', 'test_set_chunk10.h5', 'test_set_chunk48.h5', 'test_set_chunk64.h5', 'test_set_chunk40.h5', 'test_set_chunk46.h5', 'test_set_chunk58.h5', 'test_set_chunk17.h5', 'test_set_chunk16.h5', 'test_set_chunk85.h5', 'test_set_chunk67.h5', 'test_set_chunk32.h5', 'test_set_chunk12.h5', 'test_set_chunk87.h5', 'test_set_chunk59.h5', 'test_set_chunk21.h5', 'test_set_chunk76.h5', 'test_set_chunk71.h5', 'test_set_chunk89.h5', 'test_set_chunk1.h5', 'test_set_chunk23.h5', 'test_set_chunk27.h5', 'test_set_chunk78.h5', 'test_set_chunk3.h5', 'test_set_chunk33.h5', 'test_set_chunk56.h5', 'test_set_chunk25.h5', 'test_set_chunk13.h5', 'test_set_chunk37.h5', 'test_set_chunk70.h5', 'test_set_chunk51.h5']\n"
     ]
    },
    {
     "name": "stderr",
     "output_type": "stream",
     "text": [
      "\n",
      "  1%|          | 1/91 [00:00<01:03,  1.43it/s]\u001b[A\n",
      "  2%|▏         | 2/91 [00:01<01:01,  1.45it/s]\u001b[A\n",
      "  3%|▎         | 3/91 [00:02<00:59,  1.47it/s]\u001b[A\n",
      "  4%|▍         | 4/91 [00:02<00:58,  1.48it/s]\u001b[A\n",
      "  5%|▌         | 5/91 [00:03<00:57,  1.49it/s]\u001b[A\n",
      "  7%|▋         | 6/91 [00:04<00:56,  1.49it/s]\u001b[A\n",
      "  8%|▊         | 7/91 [00:04<00:56,  1.49it/s]\u001b[A"
     ]
    },
    {
     "ename": "KeyboardInterrupt",
     "evalue": "",
     "output_type": "error",
     "traceback": [
      "\u001b[0;31m---------------------------------------------------------------------------\u001b[0m",
      "\u001b[0;31mKeyboardInterrupt\u001b[0m                         Traceback (most recent call last)",
      "\u001b[0;32m<ipython-input-13-969c779320cf>\u001b[0m in \u001b[0;36m<module>\u001b[0;34m()\u001b[0m\n\u001b[1;32m      7\u001b[0m     \u001b[0mck\u001b[0m \u001b[0;34m=\u001b[0m \u001b[0mpd\u001b[0m\u001b[0;34m.\u001b[0m\u001b[0mread_hdf\u001b[0m\u001b[0;34m(\u001b[0m\u001b[0;34m'data/test_chunks/'\u001b[0m\u001b[0;34m+\u001b[0m\u001b[0mck_path\u001b[0m\u001b[0;34m)\u001b[0m\u001b[0;34m\u001b[0m\u001b[0m\n\u001b[1;32m      8\u001b[0m \u001b[0;34m\u001b[0m\u001b[0m\n\u001b[0;32m----> 9\u001b[0;31m     \u001b[0;32massert\u001b[0m \u001b[0mck\u001b[0m\u001b[0;34m.\u001b[0m\u001b[0mgroupby\u001b[0m\u001b[0;34m(\u001b[0m\u001b[0;34m'object_id'\u001b[0m\u001b[0;34m)\u001b[0m\u001b[0;34m[\u001b[0m\u001b[0;34m'passband'\u001b[0m\u001b[0;34m]\u001b[0m\u001b[0;34m.\u001b[0m\u001b[0mnunique\u001b[0m\u001b[0;34m(\u001b[0m\u001b[0;34m)\u001b[0m\u001b[0;34m.\u001b[0m\u001b[0mmin\u001b[0m\u001b[0;34m(\u001b[0m\u001b[0;34m)\u001b[0m \u001b[0;34m==\u001b[0m \u001b[0;36m6\u001b[0m\u001b[0;34m\u001b[0m\u001b[0m\n\u001b[0m\u001b[1;32m     10\u001b[0m \u001b[0;34m\u001b[0m\u001b[0m\n\u001b[1;32m     11\u001b[0m     \u001b[0;32mdel\u001b[0m \u001b[0mck\u001b[0m\u001b[0;34m\u001b[0m\u001b[0m\n",
      "\u001b[0;32m~/anaconda3/envs/tf_intro/lib/python3.6/site-packages/pandas/core/groupby/groupby.py\u001b[0m in \u001b[0;36mnunique\u001b[0;34m(self, dropna)\u001b[0m\n\u001b[1;32m   3747\u001b[0m \u001b[0;34m\u001b[0m\u001b[0m\n\u001b[1;32m   3748\u001b[0m         \u001b[0;32mtry\u001b[0m\u001b[0;34m:\u001b[0m\u001b[0;34m\u001b[0m\u001b[0m\n\u001b[0;32m-> 3749\u001b[0;31m             \u001b[0msorter\u001b[0m \u001b[0;34m=\u001b[0m \u001b[0mnp\u001b[0m\u001b[0;34m.\u001b[0m\u001b[0mlexsort\u001b[0m\u001b[0;34m(\u001b[0m\u001b[0;34m(\u001b[0m\u001b[0mval\u001b[0m\u001b[0;34m,\u001b[0m \u001b[0mids\u001b[0m\u001b[0;34m)\u001b[0m\u001b[0;34m)\u001b[0m\u001b[0;34m\u001b[0m\u001b[0m\n\u001b[0m\u001b[1;32m   3750\u001b[0m         \u001b[0;32mexcept\u001b[0m \u001b[0mTypeError\u001b[0m\u001b[0;34m:\u001b[0m  \u001b[0;31m# catches object dtypes\u001b[0m\u001b[0;34m\u001b[0m\u001b[0m\n\u001b[1;32m   3751\u001b[0m             \u001b[0;32massert\u001b[0m \u001b[0mval\u001b[0m\u001b[0;34m.\u001b[0m\u001b[0mdtype\u001b[0m \u001b[0;34m==\u001b[0m \u001b[0mobject\u001b[0m\u001b[0;34m,\u001b[0m\u001b[0;31m \u001b[0m\u001b[0;31m\\\u001b[0m\u001b[0;34m\u001b[0m\u001b[0m\n",
      "\u001b[0;31mKeyboardInterrupt\u001b[0m: "
     ]
    }
   ],
   "source": [
    "### Small code snippet to check that ALL objects have indeed data for 6 passbands\n",
    "\n",
    "# Get test chunk names\n",
    "ck_paths = [p for p in os.listdir('data/test_chunks/') if p[0]=='t']\n",
    "print(ck_paths)\n",
    "for ck_path in tqdm.tqdm(ck_paths):\n",
    "    ck = pd.read_hdf('data/test_chunks/'+ck_path)\n",
    "    \n",
    "    assert ck.groupby('object_id')['passband'].nunique().min() == 6\n",
    "\n",
    "    del ck\n",
    "    gc.collect()\n",
    "    \n",
    "print('Success !')"
   ]
  },
  {
   "cell_type": "code",
   "execution_count": null,
   "metadata": {},
   "outputs": [],
   "source": []
  }
 ],
 "metadata": {
  "kernelspec": {
   "display_name": "Python 3",
   "language": "python",
   "name": "python3"
  },
  "language_info": {
   "codemirror_mode": {
    "name": "ipython",
    "version": 3
   },
   "file_extension": ".py",
   "mimetype": "text/x-python",
   "name": "python",
   "nbconvert_exporter": "python",
   "pygments_lexer": "ipython3",
   "version": "3.6.5"
  }
 },
 "nbformat": 4,
 "nbformat_minor": 2
}
