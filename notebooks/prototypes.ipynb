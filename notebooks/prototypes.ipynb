{
 "cells": [
  {
   "cell_type": "code",
   "execution_count": 3,
   "metadata": {},
   "outputs": [
    {
     "data": {
      "text/plain": [
       "90    8\n",
       "42    6\n",
       "62    2\n",
       "15    2\n",
       "6     1\n",
       "67    1\n",
       "dtype: int64"
      ]
     },
     "execution_count": 3,
     "metadata": {},
     "output_type": "execute_result"
    }
   ],
   "source": [
    "'''\n",
    "Training subsample prototypes\n",
    "'''\n",
    "import numpy as np\n",
    "import pandas as pd\n",
    "from sklearn.utils.class_weight import compute_sample_weight\n",
    "\n",
    "demo_tgt = np.array([\n",
    "    90,90,90,42,42,42,90,62,62,90,42,67,42,90,90,42,15,15,6,90\n",
    "])\n",
    "pd.Series(demo_tgt).value_counts()"
   ]
  },
  {
   "cell_type": "code",
   "execution_count": 16,
   "metadata": {},
   "outputs": [],
   "source": [
    "sw = compute_sample_weight('balanced', demo_tgt, indices=demo_tgt>60)"
   ]
  },
  {
   "cell_type": "code",
   "execution_count": 17,
   "metadata": {},
   "outputs": [
    {
     "data": {
      "text/plain": [
       "0\n",
       "6.0     0.000000\n",
       "15.0    0.000000\n",
       "42.0    0.000000\n",
       "62.0    3.666667\n",
       "67.0    3.666667\n",
       "90.0    3.666667\n",
       "Name: 1, dtype: float64"
      ]
     },
     "execution_count": 17,
     "metadata": {},
     "output_type": "execute_result"
    }
   ],
   "source": [
    "pd.DataFrame(np.vstack([demo_tgt, sw]).T).groupby(0)[1].sum()"
   ]
  },
  {
   "cell_type": "code",
   "execution_count": 29,
   "metadata": {},
   "outputs": [
    {
     "data": {
      "text/plain": [
       "array([ True,  True, False, False, False, False, False,  True,  True,\n",
       "       False,  True,  True,  True, False, False,  True, False,  True,\n",
       "        True, False])"
      ]
     },
     "execution_count": 29,
     "metadata": {},
     "output_type": "execute_result"
    }
   ],
   "source": [
    "md = {90 : (4,0), 42 : (2,1), 15 : (2,1)}\n",
    "\n",
    "def mask_samples(tgt, mask_dict):\n",
    "    '''\n",
    "    Compute a boolean mask to cover tgt classes as specified by mask_dict.\n",
    "    Mask_dict entries as follows:\n",
    "    k : v, where k is the tgt class to mask, and v is a (v0, v1) tuple, where v0 is the number of splits to\n",
    "    make in class k, and v1 is the split number to leave unmasked (ie. True). All other splits are masked\n",
    "    '''\n",
    "    \n",
    "    # Full mask\n",
    "    mask = np.ones(tgt.size)\n",
    "    \n",
    "    for k,v in mask_dict.items():\n",
    "        # Get tgt indices\n",
    "        k_ixs = np.nonzero(tgt==k)[0]\n",
    "        # Split tgt indices\n",
    "        split_k_ixs = np.array_split(k_ixs, v[0])\n",
    "        \n",
    "        # Cover all k splits except the choosen split\n",
    "        for i,s in enumerate(split_k_ixs):\n",
    "            if i != v[1]:\n",
    "                mask[s] = 0\n",
    "                \n",
    "    return mask.astype(bool)\n",
    "    \n",
    "msk = mask_samples(demo_tgt, md)\n",
    "msk"
   ]
  },
  {
   "cell_type": "code",
   "execution_count": 41,
   "metadata": {},
   "outputs": [],
   "source": [
    "sw = compute_sample_weight('balanced', demo_tgt[msk])"
   ]
  },
  {
   "cell_type": "code",
   "execution_count": 42,
   "metadata": {},
   "outputs": [
    {
     "data": {
      "text/plain": [
       "array([0.83333333, 0.83333333, 0.83333333, 0.83333333, 0.55555556,\n",
       "       1.66666667, 0.55555556, 0.55555556, 1.66666667, 1.66666667])"
      ]
     },
     "execution_count": 42,
     "metadata": {},
     "output_type": "execute_result"
    }
   ],
   "source": [
    "sw"
   ]
  },
  {
   "cell_type": "code",
   "execution_count": 38,
   "metadata": {},
   "outputs": [
    {
     "data": {
      "text/plain": [
       "array([0.83333333, 0.83333333, 0.83333333, 0.55555556, 0.55555556,\n",
       "       0.55555556, 0.83333333, 0.83333333, 0.83333333, 0.83333333,\n",
       "       0.55555556, 1.66666667, 0.55555556, 0.83333333, 0.83333333,\n",
       "       0.55555556, 1.66666667, 1.66666667, 1.66666667, 0.83333333])"
      ]
     },
     "execution_count": 38,
     "metadata": {},
     "output_type": "execute_result"
    }
   ],
   "source": [
    "sw"
   ]
  },
  {
   "cell_type": "code",
   "execution_count": null,
   "metadata": {},
   "outputs": [],
   "source": [
    ""
   ]
  }
 ],
 "metadata": {
  "kernelspec": {
   "display_name": "Python 3",
   "language": "python",
   "name": "python3"
  },
  "language_info": {
   "codemirror_mode": {
    "name": "ipython",
    "version": 3.0
   },
   "file_extension": ".py",
   "mimetype": "text/x-python",
   "name": "python",
   "nbconvert_exporter": "python",
   "pygments_lexer": "ipython3",
   "version": "3.6.4"
  }
 },
 "nbformat": 4,
 "nbformat_minor": 0
}