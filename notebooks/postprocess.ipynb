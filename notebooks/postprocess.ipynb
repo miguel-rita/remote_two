{
 "cells": [
  {
   "cell_type": "code",
   "execution_count": 1,
   "metadata": {},
   "outputs": [],
   "source": [
    "import pandas as pd\n",
    "import numpy as np\n",
    "import seaborn as sns\n",
    "import tqdm\n",
    "\n",
    "'''\n",
    "\n",
    "Marginal distribution weight shifting\n",
    "\n",
    "'''\n",
    "\n",
    "approx_freqs = {\n",
    "    'g_99' : 0.002350,\n",
    "    'g_90' : 0.001841,\n",
    "    'eg_99' : 0.091153,\n",
    "    'eg_90' : 0.086091,\n",
    "    'g_95' : 0.001949,\n",
    "    'g_92' : 0.002357,\n",
    "    'eg_95' : 0.090235,\n",
    "    'eg_92' : 0.000005,\n",
    "    'g_88' : 0.002583,\n",
    "    'g_67' : 0.002014,\n",
    "    'eg_88' : 0.082226,\n",
    "    'eg_67' : 0.083775,\n",
    "    'g_65' : 0.030996,\n",
    "    'g_64' : 0.001612,\n",
    "    'eg_65' : 0.003594,\n",
    "    'eg_64' : 0.094024,\n",
    "    'g_62' : 0.001978,\n",
    "    'g_53' : 0.002321,\n",
    "    'eg_62' : 0.090185,\n",
    "    'eg_53' : 0.000003,\n",
    "    'g_52' : 0.002201,\n",
    "    'g_42' : 0.002337,\n",
    "    'eg_52' : 0.083214,\n",
    "    'eg_42' : 0.082840,\n",
    "    'g_16' : 0.030782,\n",
    "    'g_15' : 0.001621,\n",
    "    'eg_16' : 0.003579,\n",
    "    'eg_15' : 0.093990,\n",
    "    'g_6' : 0.024859,\n",
    "    'eg_6' : 0.003284,\n",
    "}\n",
    "\n",
    "# Load submission\n",
    "sub = pd.read_csv('../subs/sub_v3_isband_0.7691.csv').values\n",
    "\n",
    "# Load rs_bin info\n",
    "rs_bins = np.load('../data/rs_bins.npy')"
   ]
  },
  {
   "cell_type": "code",
   "execution_count": 2,
   "metadata": {},
   "outputs": [
    {
     "data": {
      "text/plain": [
       "2.0"
      ]
     },
     "execution_count": 2,
     "metadata": {},
     "output_type": "execute_result"
    }
   ],
   "source": [
    "def build_prior_table(approx_freqs_dict):  \n",
    "    classes = np.sort(np.unique(np.array([int(s.split('_')[1]) for s in approx_freqs_dict.keys()])))\n",
    "    lookup = {c : i for i,c in enumerate(classes)}\n",
    "    \n",
    "    ptable = np.zeros((classes.shape[0], 2)) \n",
    "    for k,v in approx_freqs_dict.items():\n",
    "        class_ = int(k.split('_')[1])\n",
    "        bin_str = k.split('_')[0]\n",
    "        bin_index = 0 if bin_str == 'g' else 1\n",
    "        row_index = lookup[class_]\n",
    "        ptable[row_index,bin_index] = v\n",
    "        \n",
    "    # Up until here ptable denotes p(class=ci AND bin=gi). We must compute ptable p(class=ci | bin=gi). Thus:\n",
    "    ptable /= np.sum(ptable, axis=0)\n",
    "    \n",
    "    return ptable\n",
    "\n",
    "np.set_printoptions(precision=6, suppress=True)\n",
    "prior_table = build_prior_table(approx_freqs)\n",
    "np.sum(prior_table)"
   ]
  },
  {
   "cell_type": "code",
   "execution_count": 3,
   "metadata": {},
   "outputs": [
    {
     "data": {
      "text/plain": [
       "1.9999999992224073"
      ]
     },
     "execution_count": 3,
     "metadata": {},
     "output_type": "execute_result"
    }
   ],
   "source": [
    "# Build submission table\n",
    "def build_sub_table(sub_, rs_bins_):\n",
    "    return np.vstack([\n",
    "        np.mean(sub_[rs_bins_==0,1:], axis=0),\n",
    "        np.mean(sub_[rs_bins_!=0,1:], axis=0),\n",
    "    ]).T\n",
    "\n",
    "sub_table = build_sub_table(sub, rs_bins)\n",
    "np.sum(sub_table)"
   ]
  },
  {
   "cell_type": "code",
   "execution_count": 4,
   "metadata": {},
   "outputs": [
    {
     "data": {
      "text/plain": [
       "array([[ 6.      ,  0.021896,  0.000935,  0.22235 ,  0.003697],\n",
       "       [15.      ,  0.00268 ,  0.088455,  0.014499,  0.105821],\n",
       "       [16.      ,  0.26784 ,  0.000941,  0.275328,  0.00403 ],\n",
       "       [42.      ,  0.001669,  0.174097,  0.020903,  0.093267],\n",
       "       [52.      ,  0.001194,  0.024371,  0.019687,  0.093689],\n",
       "       [53.      ,  0.002861,  0.000914,  0.02076 ,  0.000003],\n",
       "       [62.      ,  0.001664,  0.051544,  0.017692,  0.101537],\n",
       "       [64.      ,  0.001371,  0.009386,  0.014418,  0.105859],\n",
       "       [65.      ,  0.228594,  0.000911,  0.277243,  0.004046],\n",
       "       [67.      ,  0.001369,  0.02333 ,  0.018014,  0.09432 ],\n",
       "       [88.      ,  0.001184,  0.032452,  0.023104,  0.092576],\n",
       "       [90.      ,  0.002353,  0.472583,  0.016467,  0.096928],\n",
       "       [92.      ,  0.443573,  0.00097 ,  0.021082,  0.000006],\n",
       "       [95.      ,  0.000733,  0.016484,  0.017433,  0.101593],\n",
       "       [99.      ,  0.021019,  0.102627,  0.021019,  0.102627]])"
      ]
     },
     "execution_count": 4,
     "metadata": {},
     "output_type": "execute_result"
    }
   ],
   "source": [
    "classes = np.expand_dims(np.array([6,15,16,42,52,53,62,64,65,67,88,90,92,95,99]), 1).astype(int)\n",
    "np.hstack([classes, sub_table, prior_table])"
   ]
  },
  {
   "cell_type": "markdown",
   "metadata": {},
   "source": [
    "Oficial weight shift code below"
   ]
  },
  {
   "cell_type": "code",
   "execution_count": 4,
   "metadata": {},
   "outputs": [],
   "source": [
    "def migrate_sub(prior_table_, sub_table_, sub__, rs_bins_):\n",
    "    sub_ = np.copy(sub__)\n",
    "    # Step I - build migration matrix\n",
    "\n",
    "    interp = 1.0  # % of densityt to migrate\n",
    "    migration_matrix = np.zeros(sub_[:, 1:-1].shape)\n",
    "\n",
    "    for col_num in np.arange(sub_[:, 1:-1].shape[1]):  # For each class except 99 determine const scale factor\n",
    "\n",
    "        # Bin 0 - galactic\n",
    "        migration_matrix[rs_bins_ == 0, col_num] = interp * prior_table_[col_num, 0] / sub_table_[col_num, 0]\n",
    "\n",
    "        # Bins 1-9 - extragalactic\n",
    "        migration_matrix[rs_bins_ != 0, col_num] = interp * prior_table_[col_num, 1] / sub_table_[col_num, 1]\n",
    "\n",
    "    migration_matrix = sub_[:, 1:-1] * (1 - migration_matrix)\n",
    "\n",
    "    # Step II - migrate probabilities per row\n",
    "\n",
    "    # For each submission row . . .\n",
    "    for i, (sub_line, mm_line) in tqdm.tqdm(enumerate(zip(sub_[:,1:-1], migration_matrix)), total=sub_.shape[0]):\n",
    "\n",
    "        # Get positive col indexes - classes where probs need to go down\n",
    "        pos_cols = np.where(mm_line > 0)[0]\n",
    "\n",
    "        # Get negative col indexes sorted by descending sub confidence\n",
    "        # This makes sense since we'll transfer superavit probability elsewhere where we are more confident\n",
    "        neg_cols = np.where(mm_line < 0)[0]\n",
    "        sorted_ixs = np.argsort(sub_line[neg_cols])[::-1]\n",
    "        neg_cols = neg_cols[sorted_ixs]\n",
    "\n",
    "        # For each positive col try to empty it across neg cols\n",
    "        for pos_col in pos_cols:\n",
    "            budget = mm_line[pos_col]\n",
    "            for neg_col in neg_cols:\n",
    "                if mm_line[neg_col] == 0:  # Neg col already satisfied\n",
    "                    continue\n",
    "\n",
    "                budget += mm_line[neg_col]  # Update budget\n",
    "\n",
    "                if budget <= 0:\n",
    "                    sub_line[pos_col] -= mm_line[pos_col]\n",
    "                    sub_line[neg_col] += mm_line[pos_col]\n",
    "                    mm_line[neg_col] += mm_line[pos_col]\n",
    "                    break  # Budget just ran out, next pos col - must break out to pos cols loop\n",
    "                else:\n",
    "                    sub_line[pos_col] += mm_line[neg_col]\n",
    "                    sub_line[neg_col] += -mm_line[neg_col]  # - to get abs val\n",
    "                    mm_line[pos_col] += mm_line[neg_col] # Update migration superavit\n",
    "                    mm_line[neg_col] = 0  # Neg col satisfied\n",
    "\n",
    "        # Assign migrated line\n",
    "        sub_[i, 1:-1] = sub_line\n",
    "        assert not np.any(sub_line<0)\n",
    "\n",
    "    return sub_"
   ]
  },
  {
   "cell_type": "code",
   "execution_count": 6,
   "metadata": {},
   "outputs": [
    {
     "name": "stderr",
     "output_type": "stream",
     "text": [
      "100%|██████████| 4/4 [00:00<00:00, 6620.84it/s]"
     ]
    },
    {
     "name": "stdout",
     "output_type": "stream",
     "text": [
      "[[inf 0.2 0.3 0.1 0.3 0.1]\n",
      " [inf 0.3 0.3 0.2 0.1 0.1]\n",
      " [inf 0.5 0.1 0.1 0.2 0.1]\n",
      " [inf 0.1 0.7 0.1 0.  0.1]]\n",
      "[[     inf 0.12     0.2      0.033333 0.546667 0.1     ]\n",
      " [     inf 0.18     0.22     0.2      0.3      0.1     ]\n",
      " [     inf 0.166667 0.075    0.1      0.558333 0.1     ]\n",
      " [     inf 0.1      0.7      0.1      0.       0.1     ]]\n"
     ]
    },
    {
     "name": "stderr",
     "output_type": "stream",
     "text": [
      "\n"
     ]
    }
   ],
   "source": [
    "test_sub = np.array(\n",
    "    [\n",
    "        [np.inf, .2, .3, .1, .3, .1],\n",
    "        [np.inf, .3, .3, .2, .1, .1],\n",
    "        [np.inf, .5, .1, .1, .2, .1],\n",
    "        [np.inf, .1, .7, .1, .0, .1],\n",
    "    ]\n",
    ")\n",
    "\n",
    "test_rs_bins = np.array([0,0,1,1])\n",
    "test_sub_table = build_sub_table(test_sub, test_rs_bins)\n",
    "test_prior_table = np.array(\n",
    "    [\n",
    "        [0.25-.1, 0.3-.2 ],\n",
    "        [0.3-.1,  0.4-.1 ],\n",
    "        [0.15-.1, 0.1 ],\n",
    "        [0.2+.4,  0.1+.2 ],\n",
    "        [0.1,  0.1 ],\n",
    "    ]\n",
    ")\n",
    "\n",
    "new_sub = migrate_sub(test_prior_table, test_sub_table, test_sub, test_rs_bins)\n",
    "print(test_sub)\n",
    "print(new_sub)"
   ]
  },
  {
   "cell_type": "code",
   "execution_count": 5,
   "metadata": {},
   "outputs": [
    {
     "name": "stderr",
     "output_type": "stream",
     "text": [
      "100%|██████████| 3492890/3492890 [02:44<00:00, 21197.73it/s]\n"
     ]
    }
   ],
   "source": [
    "prior_table = build_prior_table(approx_freqs)\n",
    "sub_table = build_sub_table(sub, rs_bins)\n",
    "shifted_sub = migrate_sub(prior_table, sub_table, sub, rs_bins)"
   ]
  },
  {
   "cell_type": "code",
   "execution_count": 10,
   "metadata": {},
   "outputs": [
    {
     "name": "stderr",
     "output_type": "stream",
     "text": [
      "  0%|          | 4785/3492890 [00:00<02:26, 23855.35it/s]"
     ]
    },
    {
     "name": "stdout",
     "output_type": "stream",
     "text": [
      "1\n"
     ]
    },
    {
     "name": "stderr",
     "output_type": "stream",
     "text": [
      "100%|██████████| 3492890/3492890 [02:09<00:00, 27067.30it/s]\n"
     ]
    },
    {
     "name": "stdout",
     "output_type": "stream",
     "text": [
      "[[0.22235  0.003697]\n",
      " [0.014499 0.105821]\n",
      " [0.275328 0.00403 ]\n",
      " [0.020903 0.093267]\n",
      " [0.019687 0.093689]\n",
      " [0.02076  0.000003]\n",
      " [0.017692 0.101537]\n",
      " [0.014418 0.105859]\n",
      " [0.277243 0.004046]\n",
      " [0.018014 0.09432 ]\n",
      " [0.023104 0.092576]\n",
      " [0.016467 0.096928]\n",
      " [0.021082 0.000006]\n",
      " [0.017433 0.101593]\n",
      " [0.021019 0.102627]]\n",
      "[[0.111844 0.00335 ]\n",
      " [0.008486 0.105431]\n",
      " [0.269345 0.003644]\n",
      " [0.012511 0.093268]\n",
      " [0.0119   0.091715]\n",
      " [0.008176 0.000003]\n",
      " [0.010746 0.100327]\n",
      " [0.00824  0.093854]\n",
      " [0.229031 0.003665]\n",
      " [0.010975 0.090661]\n",
      " [0.016403 0.055125]\n",
      " [0.010238 0.179446]\n",
      " [0.258448 0.000436]\n",
      " [0.012636 0.076448]\n",
      " [0.021019 0.102627]]\n",
      "[[0.066017 0.002772]\n",
      " [0.00561  0.104154]\n",
      " [0.268952 0.002974]\n",
      " [0.005592 0.094986]\n",
      " [0.004442 0.08322 ]\n",
      " [0.004484 0.000015]\n",
      " [0.005139 0.096502]\n",
      " [0.003666 0.066694]\n",
      " [0.228962 0.002972]\n",
      " [0.004542 0.079497]\n",
      " [0.007136 0.047657]\n",
      " [0.006115 0.261909]\n",
      " [0.36265  0.000615]\n",
      " [0.005671 0.053405]\n",
      " [0.021019 0.102627]]\n",
      "[[0.066017 0.002772]\n",
      " [0.00561  0.104154]\n",
      " [0.268952 0.002974]\n",
      " [0.005592 0.094986]\n",
      " [0.004442 0.08322 ]\n",
      " [0.004484 0.000015]\n",
      " [0.005139 0.096502]\n",
      " [0.003666 0.066694]\n",
      " [0.228962 0.002972]\n",
      " [0.004542 0.079497]\n",
      " [0.007136 0.047657]\n",
      " [0.006115 0.261909]\n",
      " [0.36265  0.000615]\n",
      " [0.005671 0.053405]\n",
      " [0.021019 0.102627]]\n"
     ]
    }
   ],
   "source": [
    "prior_table = build_prior_table(approx_freqs)\n",
    "sub_table = build_sub_table(shifted_sub, rs_bins)\n",
    "shifted_sub_ii = migrate_sub(prior_table, sub_table, shifted_sub, rs_bins)"
   ]
  },
  {
   "cell_type": "code",
   "execution_count": 7,
   "metadata": {},
   "outputs": [],
   "source": [
    "# Save shifted sub\n",
    "\n",
    "# Get submission header\n",
    "col_names = list(pd.read_csv(filepath_or_buffer='../data/sample_submission.csv', nrows=1).columns)\n",
    "num_classes = len(col_names) - 1\n",
    "\n",
    "h = ''\n",
    "for s in col_names:\n",
    "    h += s + ','\n",
    "h = h[:-1]\n",
    "\n",
    "np.savetxt(\n",
    "    fname='../subs/sub_v3_isband_0.7691_testdrive_1.csv',\n",
    "    X=shifted_sub,\n",
    "    fmt=['%d'] + ['%.4f'] * num_classes,\n",
    "    delimiter=',',\n",
    "    header=h,\n",
    "    comments='',\n",
    ")"
   ]
  },
  {
   "cell_type": "code",
   "execution_count": 13,
   "metadata": {},
   "outputs": [
    {
     "name": "stdout",
     "output_type": "stream",
     "text": [
      "[[0.22235  0.003697]\n",
      " [0.014499 0.105821]\n",
      " [0.275328 0.00403 ]\n",
      " [0.020903 0.093267]\n",
      " [0.019687 0.093689]\n",
      " [0.02076  0.000003]\n",
      " [0.017692 0.101537]\n",
      " [0.014418 0.105859]\n",
      " [0.277243 0.004046]\n",
      " [0.018014 0.09432 ]\n",
      " [0.023104 0.092576]\n",
      " [0.016467 0.096928]\n",
      " [0.021082 0.000006]\n",
      " [0.017433 0.101593]\n",
      " [0.021019 0.102627]]\n",
      "[[0.111844 0.00335 ]\n",
      " [0.008486 0.105431]\n",
      " [0.269345 0.003644]\n",
      " [0.012511 0.093268]\n",
      " [0.0119   0.091715]\n",
      " [0.008176 0.000003]\n",
      " [0.010746 0.100327]\n",
      " [0.00824  0.093854]\n",
      " [0.229031 0.003665]\n",
      " [0.010975 0.090661]\n",
      " [0.016403 0.055125]\n",
      " [0.010238 0.179446]\n",
      " [0.258448 0.000436]\n",
      " [0.012636 0.076448]\n",
      " [0.021019 0.102627]]\n",
      "[[0.066017 0.002772]\n",
      " [0.00561  0.104154]\n",
      " [0.268952 0.002974]\n",
      " [0.005592 0.094986]\n",
      " [0.004442 0.08322 ]\n",
      " [0.004484 0.000015]\n",
      " [0.005139 0.096502]\n",
      " [0.003666 0.066694]\n",
      " [0.228962 0.002972]\n",
      " [0.004542 0.079497]\n",
      " [0.007136 0.047657]\n",
      " [0.006115 0.261909]\n",
      " [0.36265  0.000615]\n",
      " [0.005671 0.053405]\n",
      " [0.021019 0.102627]]\n",
      "[[0.021896 0.000935]\n",
      " [0.00268  0.088455]\n",
      " [0.26784  0.000941]\n",
      " [0.001669 0.174097]\n",
      " [0.001194 0.024371]\n",
      " [0.002861 0.000914]\n",
      " [0.001664 0.051544]\n",
      " [0.001371 0.009386]\n",
      " [0.228594 0.000911]\n",
      " [0.001369 0.02333 ]\n",
      " [0.001184 0.032452]\n",
      " [0.002353 0.472583]\n",
      " [0.443573 0.00097 ]\n",
      " [0.000733 0.016484]\n",
      " [0.021019 0.102627]]\n"
     ]
    }
   ],
   "source": [
    "first_table = build_sub_table(sub, rs_bins)\n",
    "new_table = build_sub_table(shifted_sub, rs_bins)\n",
    "newest_table = build_sub_table(shifted_sub_ii, rs_bins)\n",
    "print(prior_table)\n",
    "print(newest_table)\n",
    "print(new_table)\n",
    "print(first_table)\n",
    "\n",
    "# Save twice-shifted sub\n",
    "\n",
    "# Get submission header\n",
    "col_names = list(pd.read_csv(filepath_or_buffer='../data/sample_submission.csv', nrows=1).columns)\n",
    "num_classes = len(col_names) - 1\n",
    "\n",
    "h = ''\n",
    "for s in col_names:\n",
    "    h += s + ','\n",
    "h = h[:-1]\n",
    "\n",
    "np.savetxt(\n",
    "    fname='exp_mnm_sub_1.0656.csv',\n",
    "    X=shifted_sub_ii,\n",
    "    fmt=['%d'] + ['%.4f'] * num_classes,\n",
    "    delimiter=',',\n",
    "    header=h,\n",
    "    comments='',\n",
    ")"
   ]
  },
  {
   "cell_type": "code",
   "execution_count": null,
   "metadata": {},
   "outputs": [],
   "source": [
    ""
   ]
  }
 ],
 "metadata": {
  "kernelspec": {
   "display_name": "Python 3",
   "language": "python",
   "name": "python3"
  },
  "language_info": {
   "codemirror_mode": {
    "name": "ipython",
    "version": 3.0
   },
   "file_extension": ".py",
   "mimetype": "text/x-python",
   "name": "python",
   "nbconvert_exporter": "python",
   "pygments_lexer": "ipython3",
   "version": "3.6.4"
  }
 },
 "nbformat": 4,
 "nbformat_minor": 0
}